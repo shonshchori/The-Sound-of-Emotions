{
 "cells":[
  {
   "cell_type":"markdown",
   "source":[
    "# Music\/Sentiments Research - EDA for single sentiment"
   ],
   "attachments":{
    
   },
   "metadata":{
    "datalore":{
     "node_id":"jUgZ2VZF7Jm5ej4NvRnWiG",
     "type":"MD",
     "hide_input_from_viewers":true,
     "hide_output_from_viewers":true
    }
   }
  },
  {
   "cell_type":"code",
   "source":[
    "import pandas as pd\n",
    "import matplotlib.pyplot as plt\n",
    "import seaborn as sns"
   ],
   "execution_count":1,
   "outputs":[
    
   ],
   "metadata":{
    "datalore":{
     "node_id":"1AAZ6QXX9V5ebaAzjRNvtH",
     "type":"CODE",
     "hide_input_from_viewers":true,
     "hide_output_from_viewers":true
    }
   }
  },
  {
   "cell_type":"code",
   "source":[
    "file_name = '\/data\/notebook_files\/MFD_Predictions_May2023.csv'  # note: you can right-click on your file and copy-paste the path here\n",
    "dataset = pd.read_csv(file_name)\n",
    "dataset.drop(columns='Unnamed: 0', inplace = True)\n",
    "dataset.rename(columns={'label':'First_Label'}, inplace = True)"
   ],
   "execution_count":2,
   "outputs":[
    
   ],
   "metadata":{
    "datalore":{
     "node_id":"MyasBwGXX1VTNX1yvE4Z5s",
     "type":"CODE",
     "hide_input_from_viewers":true,
     "hide_output_from_viewers":true
    }
   }
  },
  {
   "cell_type":"code",
   "source":[
    "file_name = '\/data\/notebook_files\/Fully_Sample_Dataset.csv'  # note: you can right-click on your file and copy-paste the path here\n",
    "dataset = pd.read_csv(file_name)\n",
    "dataset.drop(columns='Unnamed: 0', inplace = True)\n",
    "dataset.rename(columns={'label':'First_Label'}, inplace = True)"
   ],
   "execution_count":3,
   "outputs":[
    
   ],
   "metadata":{
    "datalore":{
     "node_id":"KVVw8cEgE909CiHAHZLrpv",
     "type":"CODE",
     "hide_input_from_viewers":true,
     "hide_output_from_viewers":true
    }
   }
  },
  {
   "cell_type":"code",
   "source":[
    "dataset.sample(5)"
   ],
   "execution_count":4,
   "outputs":[
    
   ],
   "metadata":{
    "datalore":{
     "node_id":"PNistgmc9MJgVTg6jRsoFL",
     "type":"CODE",
     "hide_input_from_viewers":true,
     "hide_output_from_viewers":true
    }
   }
  },
  {
   "cell_type":"code",
   "source":[
    "dataset.First_Label.value_counts()"
   ],
   "execution_count":5,
   "outputs":[
    
   ],
   "metadata":{
    "datalore":{
     "node_id":"9MhVHharVbUxNIsDNhtz74",
     "type":"CODE",
     "hide_input_from_viewers":true,
     "hide_output_from_viewers":true
    }
   }
  },
  {
   "cell_type":"code",
   "source":[
    "eda_cols = ['song_id', 'group_id', 'user_id','danceability', 'energy', 'key', 'loudness', 'mode', 'speechiness', 'acousticness',\n",
    "                    'instrumentalness', 'liveness', 'valence', 'tempo']\n",
    "\n",
    "spotify_features = ['danceability', 'energy', 'key', 'loudness', 'mode', 'speechiness', 'acousticness',\n",
    "                    'instrumentalness', 'liveness', 'valence', 'tempo']"
   ],
   "execution_count":6,
   "outputs":[
    
   ],
   "metadata":{
    "datalore":{
     "node_id":"X6SaP5VaSkZTllYHDYtpeY",
     "type":"CODE",
     "hide_input_from_viewers":true,
     "hide_output_from_viewers":true
    }
   }
  },
  {
   "cell_type":"markdown",
   "source":[
    "## First, Let's see the differences between each sentiment:\n",
    "Before we diving into each sentiment data and focus on one of them, Let's try and find some interesting insights from the differences between each sentiment,  \n",
    "or in other words: **how the features influence the sentiments?**"
   ],
   "attachments":{
    
   },
   "metadata":{
    "datalore":{
     "node_id":"ZzUQu0jABuC9YmPwdUCt6I",
     "type":"MD",
     "hide_input_from_viewers":true,
     "hide_output_from_viewers":true
    }
   }
  },
  {
   "cell_type":"code",
   "source":[
    "# Define the list of feature names\n",
    "features = ['danceability', 'energy', 'key', 'loudness', 'speechiness', \n",
    "                 'acousticness','liveness', 'valence', 'tempo']\n",
    "\n",
    "# Create the subplots\n",
    "fig, axes = plt.subplots(3,3, figsize=(20, 16), gridspec_kw={'wspace': 0.3, 'hspace': 0.4})\n",
    "axes = axes.flatten()\n",
    "\n",
    "# Loop over the feature names and plot histograms and density plots for each feature\n",
    "for i, feature_name in enumerate(features):\n",
    "    sns.pointplot(data=dataset,x=feature_name,y='First_Label', color = 'cornflowerblue', ax=axes[i])\n",
    "    axes[i].set_title(feature_name.capitalize(), fontweight='bold', fontsize=14)\n",
    "    axes[i].set_xlabel('')\n",
    "    axes[i].set_ylabel('')\n",
    "    axes[i].spines['top'].set_visible(False)\n",
    "    axes[i].spines['right'].set_visible(False)\n",
    "    axes[i].grid(axis='x', linestyle='--', alpha=0.7)\n",
    "\n",
    "\n",
    "# Set the title and adjust the spacing\n",
    "fig.suptitle(f'Ranges plot for each Feature and Sentiment', fontsize=20, fontweight='bold');\\\n",
    "\n",
    "fig.savefig('Sentiments_Ranges_plot.png');"
   ],
   "execution_count":7,
   "outputs":[
    
   ],
   "metadata":{
    "datalore":{
     "node_id":"YBBDJ3SvYzcpJ9dQPNOEyD",
     "type":"CODE",
     "hide_input_from_viewers":true,
     "hide_output_from_viewers":true
    }
   }
  },
  {
   "cell_type":"code",
   "source":[
    "features = [['danceability', 'energy', 'key', 'loudness', 'speechiness', \n",
    "                 'acousticness','liveness', 'valence', 'tempo', 'instrumentalness']]"
   ],
   "execution_count":16,
   "outputs":[
    
   ],
   "metadata":{
    "datalore":{
     "node_id":"84DBpgI2QIorIAu7oKNNfq",
     "type":"CODE",
     "hide_input_from_viewers":true,
     "hide_output_from_viewers":true
    }
   }
  },
  {
   "cell_type":"code",
   "source":[
    "import seaborn as sns\n",
    "import matplotlib.pyplot as plt\n",
    "\n",
    "feature_name = 'instrumentalness'\n",
    "# calculate the mean for each sentiment\n",
    "means = dataset.groupby('First_Label')[feature_name].mean().sort_values()\n",
    "\n",
    "# create pointplot with ordered groups\n",
    "sns.set(rc={'figure.figsize':(15,10)})\n",
    "sns.set_style(rc={'figure.figsize':(15,10)},style='white') \n",
    "ax = sns.pointplot(data=dataset, x=feature_name, y='First_Label',estimator='mean', errorbar=('ci', 50),\n",
    "                   color='cornflowerblue', join=False, order=means.index, markers='.')\n",
    "ax.set_ylabel('Sentiment')\n",
    "ax.set_xlabel('')\n",
    "ax.grid(axis='x', linestyle='--', alpha=0.7)\n",
    "\n",
    "# add the mean values to the plot and draw lines over them in red\n",
    "# for i, mean in enumerate(means):\n",
    "#     ax.text(mean+0.0005, i-0.1, f'{mean:.4f}', color='black')\n",
    "\n",
    "# plot line over the mean values\n",
    "plt.plot(means.values, means.index, color='tomato', linestyle='--', marker='o', markersize=7)\n",
    "\n",
    "# Add the mean line\n",
    "mean_value = dataset[feature_name].mean()\n",
    "plt.axvline(x=mean_value, color='red', linestyle='--')\n",
    "# ax.text(mean_value-0.003, 1.5, f'Mean value ({mean_value:.3f})', color='tomato',\n",
    "#         fontsize=10, rotation=90, fontweight='bold')\n",
    "\n",
    "# remove top and right spines\n",
    "ax.spines['top'].set_visible(False)\n",
    "ax.spines['right'].set_visible(False)\n",
    "\n",
    "# Reduca the namber of tick params on the X axis.\n",
    "ax.locator_params(axis = 'x', nbins=7) \n",
    "\n",
    "# set the title of the plot\n",
    "# ax.set_title(f'{feature_name.capitalize()} Means by Sentiments', fontweight='bold', fontsize=25)\n",
    "ax.set_title('')\n",
    "ax.set_ylabel('')\n",
    "ax.set_xlabel('')\n",
    "# ax.set_yticklabels([])\n",
    "ax.tick_params(axis='x', which='major', labelsize=27)\n",
    "ax.tick_params(axis='y', which='major', labelsize=31)\n",
    "# set the font of the x-axis label and tick labels\n",
    "\n",
    "plt.savefig(f'{feature_name.capitalize()}_Ranges.png')\n",
    "\n",
    "# show the plot\n",
    "plt.show();"
   ],
   "execution_count":17,
   "outputs":[
    
   ],
   "metadata":{
    "datalore":{
     "node_id":"GIVT7Xumivdi1GuVjCHZRg",
     "type":"CODE",
     "hide_input_from_viewers":true,
     "hide_output_from_viewers":true
    }
   }
  },
  {
   "cell_type":"markdown",
   "source":[
    "## Metrics Comparison Table for selected feature.\n",
    "Just select the desired feature and see the differences between the mean, median, minimum and maximum values for each emotion."
   ],
   "attachments":{
    
   },
   "metadata":{
    "datalore":{
     "node_id":"zUcA1pQG8KlZmN5U30enye",
     "type":"MD",
     "hide_input_from_viewers":true,
     "hide_output_from_viewers":true
    }
   }
  },
  {
   "cell_type":"code",
   "source":[
    "emotions = ['joy','neutral','sadness','surprise','fear','disgust','anger']\n",
    "feature_name = 'danceability'\n",
    "compare_df = pd.DataFrame(columns=['Mean','Median','Minimum','Maximum'])\n",
    "\n",
    "\n",
    "for emotion in emotions:\n",
    "    emotion_df = dataset[dataset.First_Label == emotion]\n",
    "    mean = emotion_df[feature_name].mean()\n",
    "    median = emotion_df[feature_name].median()\n",
    "    minimum = emotion_df[feature_name].min()\n",
    "    maximum = emotion_df[feature_name].max()\n",
    "    compare_df.loc[emotion,] = [mean, median, minimum, maximum]\n",
    "\n",
    "compare_df.sort_values(by = 'Mean', ascending=False, inplace = True)\n",
    "\n",
    "print(f'Metrics Comparison Table for {feature_name.capitalize()}:')\n",
    "\n",
    "compare_df"
   ],
   "execution_count":19,
   "outputs":[
    
   ],
   "metadata":{
    "datalore":{
     "node_id":"SDMe8XtDItaI4rhG8aFpL8",
     "type":"CODE",
     "hide_input_from_viewers":true,
     "hide_output_from_viewers":true
    }
   }
  },
  {
   "cell_type":"markdown",
   "source":[
    "## Now, we'll dive into 'Joy':\n",
    "### We'll start with understanding the distributions of each sentiment with focus on 'joy' data."
   ],
   "attachments":{
    
   },
   "metadata":{
    "datalore":{
     "node_id":"FBOWyvqlwgvMdtgrMY2M8x",
     "type":"MD",
     "hide_input_from_viewers":true,
     "hide_output_from_viewers":true
    }
   }
  },
  {
   "cell_type":"code",
   "source":[
    "emotion = 'joy'\n",
    "emotion_df = dataset[dataset.First_Label == emotion][spotify_features]"
   ],
   "execution_count":23,
   "outputs":[
    
   ],
   "metadata":{
    "datalore":{
     "node_id":"XJuqbU6xSurYVOo0jo6sWQ",
     "type":"CODE",
     "hide_input_from_viewers":true,
     "hide_output_from_viewers":true
    }
   }
  },
  {
   "cell_type":"code",
   "source":[
    "emotion_df[spotify_features].describe()"
   ],
   "execution_count":24,
   "outputs":[
    
   ],
   "metadata":{
    "datalore":{
     "node_id":"tkm5lSy9884FtF2AjDSCwP",
     "type":"CODE",
     "hide_input_from_viewers":true,
     "hide_output_from_viewers":true
    }
   }
  },
  {
   "cell_type":"code",
   "source":[
    "# Define the list of feature names\n",
    "features = ['danceability', 'energy', 'key', 'loudness', 'speechiness', \n",
    "                 'acousticness', 'liveness', 'valence', 'tempo']\n",
    "\n",
    "# Create the subplots\n",
    "fig, axes = plt.subplots(3,3, figsize=(20, 16), gridspec_kw={'wspace': 0.3, 'hspace': 0.4})\n",
    "axes = axes.flatten()\n",
    "\n",
    "# Loop over the feature names and plot histograms and density plots for each feature\n",
    "for i, feature_name in enumerate(features):\n",
    "    sns.histplot(data=emotion_df, x=feature_name, color='cornflowerblue', stat='density', ax=axes[i])\n",
    "    sns.kdeplot(data=emotion_df, x=feature_name, color='tomato', ax=axes[i])\n",
    "    axes[i].set_title(feature_name.capitalize(), fontweight='bold', fontsize=14)\n",
    "    axes[i].set_xlabel('')\n",
    "    axes[i].set_ylabel('')\n",
    "    axes[i].spines['top'].set_visible(False)\n",
    "    axes[i].spines['right'].set_visible(False)\n",
    "    axes[i].grid(axis='y', linestyle='--', alpha=0.7)\n",
    "    mean = emotion_df[feature_name].mean()\n",
    "    median = emotion_df[feature_name].median()\n",
    "    minimum = emotion_df[feature_name].min()\n",
    "    maximum = emotion_df[feature_name].max()\n",
    "    if feature_name == 'loudness':\n",
    "        axes[i].legend([f'Mean: {mean:.3f}\\nMedian: {median:.2f}\\nMin: {minimum:.3f}\\n'\n",
    "                        f'Max: {maximum:.3f}'], loc='upper left', fontsize=11, handlelength=0)\n",
    "        continue\n",
    "    axes[i].legend([f'Mean: {mean:.3f}\\nMedian: {median:.2f}\\nMin: {minimum:.3f}\\n'\n",
    "    f'Max: {maximum:.3f}'], loc='upper right', fontsize=11, handlelength=0)\n",
    "\n",
    "# Remove the unused subplots\n",
    "for i in range(len(features), len(axes)):\n",
    "    fig.delaxes(axes[i])\n",
    "\n",
    "# Set the title and adjust the spacing\n",
    "fig.suptitle(f'Density Distribution of Audio Features for {emotion}ful Music', fontsize=20, fontweight='bold')\n",
    "\n",
    "plt.savefig(f'{emotion}ful_Density_Distribution.png');"
   ],
   "execution_count":25,
   "outputs":[
    
   ],
   "metadata":{
    "datalore":{
     "node_id":"ThGIbDB9M8XpWvZiP4KsNq",
     "type":"CODE",
     "hide_input_from_viewers":true,
     "hide_output_from_viewers":true
    }
   }
  },
  {
   "cell_type":"markdown",
   "source":[
    "### Focus on one Feature Density Distribution plot:"
   ],
   "attachments":{
    
   },
   "metadata":{
    "datalore":{
     "node_id":"PPiV1kbyT4suVHUsKPPRmB",
     "type":"MD",
     "hide_input_from_viewers":true,
     "hide_output_from_viewers":true
    }
   }
  },
  {
   "cell_type":"code",
   "source":[
    "# Add summary statistics to plot\n",
    "mean = emotion_df['danceability'].mean()\n",
    "median = emotion_df['danceability'].median()\n",
    "minimum = emotion_df['danceability'].min()\n",
    "maximum = emotion_df['danceability'].max()"
   ],
   "execution_count":26,
   "outputs":[
    
   ],
   "metadata":{
    "datalore":{
     "node_id":"7e0fYlzqqV1dWhAYcIA0K8",
     "type":"CODE",
     "hide_input_from_viewers":true,
     "hide_output_from_viewers":true
    }
   }
  },
  {
   "cell_type":"code",
   "source":[
    "# Density Plot\n",
    "sns.set(rc={'figure.figsize':(11,8)})\n",
    "sns.set_style(rc={'figure.figsize':(11,8)},style='white') \n",
    "ax = sns.histplot(data=emotion_df, x=\"danceability\", kde=False, color = 'cornflowerblue', stat='density')\n",
    "ax.text(mean+0.1, ax.get_ylim()[1]*0.8, f\"Mean: {mean:.3f}\\n Median: {median:.2f}\", ha='center', fontsize=11.5)\n",
    "ax.text(minimum, ax.get_ylim()[1]*0.1, f\"Min: {minimum:.3f}\", ha='left', fontsize=11.5)\n",
    "ax.text(maximum, ax.get_ylim()[1]*0.1, f\"Max: {maximum:.3f}\", ha='right', fontsize=11.5)\n",
    "sns.kdeplot(data=emotion_df, x=\"danceability\", color='red', ax=ax)\n",
    "\n",
    "ax.spines['top'].set_visible(False)\n",
    "ax.spines['right'].set_visible(False)\n",
    "ax.set_title('Density Distribution of Danceability for Joyful Music', fontweight='bold', fontsize=20)\n",
    "plt.savefig(f'Danceability_Density_Distribution_Joy.png');"
   ],
   "execution_count":27,
   "outputs":[
    
   ],
   "metadata":{
    "datalore":{
     "node_id":"fX8GtyAFhIIJQq48es7IOn",
     "type":"CODE",
     "hide_input_from_viewers":true,
     "hide_output_from_viewers":true
    }
   }
  },
  {
   "cell_type":"markdown",
   "source":[
    "### Now, the relations between each pair of features:"
   ],
   "attachments":{
    
   },
   "metadata":{
    "datalore":{
     "node_id":"yFAZL2nh0ZE3OXwIN4HsaQ",
     "type":"MD",
     "hide_input_from_viewers":true,
     "hide_output_from_viewers":true
    }
   }
  },
  {
   "cell_type":"code",
   "source":[
    "g = sns.PairGrid(emotion_df[['danceability', 'energy', 'loudness', 'speechiness', \n",
    "                         'acousticness', 'liveness', 'valence', 'tempo']])\n",
    "g.map_diag(sns.histplot)\n",
    "g.map_offdiag(sns.scatterplot);\n",
    "\n",
    "plt.savefig(f'Features_Pair_Grid.png');"
   ],
   "execution_count":28,
   "outputs":[
    
   ],
   "metadata":{
    "datalore":{
     "node_id":"kzRQxS4QjEtShy7PlTfmKh",
     "type":"CODE",
     "hide_input_from_viewers":true,
     "hide_output_from_viewers":true
    }
   }
  }
 ],
 "metadata":{
  "kernelspec":{
   "display_name":"Python",
   "language":"python",
   "name":"python"
  },
  "datalore":{
   "computation_mode":"JUPYTER",
   "package_manager":"pip",
   "base_environment":"default",
   "packages":[
    
   ],
   "report_row_ids":[
    
   ],
   "version":3
  }
 },
 "nbformat":4,
 "nbformat_minor":4
}