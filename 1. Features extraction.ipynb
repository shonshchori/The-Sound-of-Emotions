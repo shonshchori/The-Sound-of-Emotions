{
 "cells":[
  {
   "cell_type":"markdown",
   "source":[
    "# The Sound of Emotions\n",
    "## Features extraction"
   ],
   "attachments":{
    
   },
   "metadata":{
    "datalore":{
     "node_id":"fnBnIpWDhVAiVL4UsicxBF",
     "type":"MD",
     "hide_input_from_viewers":true,
     "hide_output_from_viewers":true
    }
   }
  },
  {
   "cell_type":"code",
   "source":[
    "import pandas as pd\n",
    "import numpy as np\n",
    "import re\n",
    "import urllib.request\n",
    "import json\n",
    "import urllib\n",
    "from urllib.error import HTTPError\n",
    "import requests"
   ],
   "execution_count":14,
   "outputs":[
    
   ],
   "metadata":{
    "datalore":{
     "node_id":"0sADxxGYGBu0i9mawC8TB5",
     "type":"CODE",
     "hide_input_from_viewers":true,
     "hide_output_from_viewers":true
    }
   }
  },
  {
   "cell_type":"code",
   "source":[
    "# specify ther filename\n",
    "file_name = \"\/data\/notebook_files\/Sample_Dataset.csv\"  # note: you can right-click on your file and copy-paste the path to it here\n",
    "dataset = pd.read_csv(file_name)\n",
    "dataset.drop(columns=['User_Email','User_name'], inplace = True)"
   ],
   "execution_count":7,
   "outputs":[
    
   ],
   "metadata":{
    "datalore":{
     "node_id":"it3DO50MBwlLBnUCrL0GSZ",
     "type":"CODE",
     "hide_input_from_viewers":true,
     "hide_output_from_viewers":true
    }
   }
  },
  {
   "cell_type":"code",
   "source":[
    "print(dataset.shape)\n",
    "dataset.sample(5)"
   ],
   "execution_count":8,
   "outputs":[
    
   ],
   "metadata":{
    "datalore":{
     "node_id":"PEM5y6qbSWOMev1IwtJexR",
     "type":"CODE",
     "hide_input_from_viewers":true,
     "hide_output_from_viewers":true
    }
   }
  },
  {
   "cell_type":"markdown",
   "source":[
    "## YouTube Title and ID Extraction\n",
    "Although the video title can be mined from the URL itself, I found it is better to extract the ID first and then the title."
   ],
   "attachments":{
    
   },
   "metadata":{
    "datalore":{
     "node_id":"Fd9CeG35287tXu1h28ooQr",
     "type":"MD",
     "hide_input_from_viewers":true,
     "hide_output_from_viewers":true
    }
   }
  },
  {
   "cell_type":"markdown",
   "source":[
    "### Extract the video ID:"
   ],
   "attachments":{
    
   },
   "metadata":{
    "datalore":{
     "node_id":"rgVjuKmVGEgHzJuThYZdGa",
     "type":"MD",
     "hide_input_from_viewers":true,
     "hide_output_from_viewers":true
    }
   }
  },
  {
   "cell_type":"code",
   "source":[
    "def youtube_id_extract(url):\n",
    "    '''\n",
    "    The function gets youtube url and returns the video id\n",
    "    '''\n",
    "    # Define regex pattern to match video ID\n",
    "    pattern = re.compile(r\"(?:\/|v=)([-\\w]{11})(?:$|&|\\?)\")\n",
    "\n",
    "    # Search for video ID in URL1 using regex\n",
    "    try:\n",
    "        match = pattern.search(url)\n",
    "    except TypeError:\n",
    "        return None\n",
    "    if match:\n",
    "        video_id = match.group(1)\n",
    "        return video_id"
   ],
   "execution_count":9,
   "outputs":[
    
   ],
   "metadata":{
    "datalore":{
     "node_id":"xvA2CYqOspokujCCGFodte",
     "type":"CODE",
     "hide_input_from_viewers":true,
     "hide_output_from_viewers":true
    }
   }
  },
  {
   "cell_type":"code",
   "source":[
    "youtube_id_extract('https:\/\/youtu.be\/RgKAFK5djSk')"
   ],
   "execution_count":10,
   "outputs":[
    
   ],
   "metadata":{
    "datalore":{
     "node_id":"m4NirWK2K86KijgOrr6w7j",
     "type":"CODE",
     "hide_input_from_viewers":true,
     "hide_output_from_viewers":true
    }
   }
  },
  {
   "cell_type":"code",
   "source":[
    "dataset['YouTube_ID'] = dataset.Youtube_link.apply(youtube_id_extract)"
   ],
   "execution_count":11,
   "outputs":[
    
   ],
   "metadata":{
    "datalore":{
     "node_id":"KnG6dOh8tFxCajR0gBUzzn",
     "type":"CODE",
     "hide_input_from_viewers":true,
     "hide_output_from_viewers":true
    }
   }
  },
  {
   "cell_type":"code",
   "source":[
    "print(f'The number of songs with no YouTube ID is: {dataset.YouTube_ID.isna().sum()}')\n",
    "# Drop the rows with no YouTube ID.\n",
    "dataset.dropna(subset=['YouTube_ID'], inplace = True)"
   ],
   "execution_count":13,
   "outputs":[
    
   ],
   "metadata":{
    "datalore":{
     "node_id":"DQGDe9AWYyG1Pop5LP2psa",
     "type":"CODE",
     "hide_input_from_viewers":true,
     "hide_output_from_viewers":true
    }
   }
  },
  {
   "cell_type":"markdown",
   "source":[
    "### Extract the video title from the YouTube ID:"
   ],
   "attachments":{
    
   },
   "metadata":{
    "datalore":{
     "node_id":"WTd7WWUVWNiqSsSJzWsVSX",
     "type":"MD",
     "hide_input_from_viewers":true,
     "hide_output_from_viewers":true
    }
   }
  },
  {
   "cell_type":"code",
   "source":[
    "def youtube_title_extract(video_id):\n",
    "    #change to yours VideoID or change url inparams\n",
    "    params = {\"format\": \"json\", \"url\": \"https:\/\/www.youtube.com\/watch?v=%s\" % video_id}\n",
    "    url = \"https:\/\/www.youtube.com\/oembed\"\n",
    "    query_string = urllib.parse.urlencode(params)\n",
    "    url = url + \"?\" + query_string\n",
    "    try:\n",
    "        with urllib.request.urlopen(url) as response:\n",
    "            response_text = response.read()\n",
    "            data = json.loads(response_text.decode())\n",
    "            return data['title']\n",
    "    except HTTPError:\n",
    "        return None"
   ],
   "execution_count":15,
   "outputs":[
    
   ],
   "metadata":{
    "datalore":{
     "node_id":"Xv05z4DY9nyHtIWGXTnzwL",
     "type":"CODE",
     "hide_input_from_viewers":true,
     "hide_output_from_viewers":true
    }
   }
  },
  {
   "cell_type":"code",
   "source":[
    "youtube_title_extract('VOgFZfRVaww')"
   ],
   "execution_count":16,
   "outputs":[
    
   ],
   "metadata":{
    "datalore":{
     "node_id":"wzd6WHIA1snkTZJulwGuLY",
     "type":"CODE",
     "hide_input_from_viewers":true,
     "hide_output_from_viewers":true
    }
   }
  },
  {
   "cell_type":"code",
   "source":[
    "dataset['YouTube_Title'] = dataset.YouTube_ID.apply(youtube_title_extract)"
   ],
   "execution_count":17,
   "outputs":[
    
   ],
   "metadata":{
    "datalore":{
     "node_id":"VIDtKrKPZaB7mqzYcq1bmP",
     "type":"CODE",
     "hide_input_from_viewers":true,
     "hide_output_from_viewers":true
    }
   }
  },
  {
   "cell_type":"code",
   "source":[
    "print(f'The number of songs with no YouTube Title is: {dataset.YouTube_Title.isna().sum()}')\n",
    "# Drop the rows with no YouTube ID.\n",
    "dataset.dropna(subset=['YouTube_Title'], inplace = True)"
   ],
   "execution_count":18,
   "outputs":[
    
   ],
   "metadata":{
    "datalore":{
     "node_id":"0gDgcz3GBS5WjjH6UHzQyP",
     "type":"CODE",
     "hide_input_from_viewers":true,
     "hide_output_from_viewers":true
    }
   }
  },
  {
   "cell_type":"markdown",
   "source":[
    "### Get Spotify's ID:"
   ],
   "attachments":{
    
   },
   "metadata":{
    "datalore":{
     "node_id":"KyNO8DgbNk84EQM20RY4tu",
     "type":"MD",
     "hide_input_from_viewers":true,
     "hide_output_from_viewers":true
    }
   }
  },
  {
   "cell_type":"code",
   "source":[
    "# Connect The Spotify's API\n",
    "CLIENT_ID = 'XXXXX'\n",
    "CLIENT_SECRET = 'XXXXX'\n",
    "\n",
    "AUTH_URL = 'https:\/\/accounts.spotify.com\/api\/token'\n",
    "\n",
    "# POST\n",
    "auth_response = requests.post(AUTH_URL, {\n",
    "    'grant_type': 'client_credentials',\n",
    "    'client_id': CLIENT_ID,\n",
    "    'client_secret': CLIENT_SECRET,\n",
    "}, timeout=20)\n",
    "\n",
    "# convert the response to JSON\n",
    "auth_response_data = auth_response.json()\n",
    "\n",
    "# save the access token\n",
    "access_token = auth_response_data['access_token']"
   ],
   "execution_count":21,
   "outputs":[
    
   ],
   "metadata":{
    "datalore":{
     "node_id":"DafyvFxCJUyogzSvbQFxvz",
     "type":"CODE",
     "hide_input_from_viewers":true,
     "hide_output_from_viewers":true
    }
   }
  },
  {
   "cell_type":"code",
   "source":[
    "def get_spotify_id(song_title, access_token):\n",
    "    # Set up API endpoint and parameters\n",
    "    endpoint = \"https:\/\/api.spotify.com\/v1\/search\"\n",
    "    params = {\n",
    "        \"q\": song_title,\n",
    "        \"type\": \"track\",\n",
    "        \"limit\": 1\n",
    "    }\n",
    "    \n",
    "    # Set up HTTP headers with access token\n",
    "    headers = {\n",
    "        \"Authorization\": \"Bearer \" + access_token\n",
    "    }\n",
    "\n",
    "    # Make API request and retrieve response\n",
    "    response = requests.get(endpoint, params=params, headers=headers)\n",
    "\n",
    "    # Parse response JSON and extract track ID\n",
    "    try:\n",
    "        data = response.json()\n",
    "        if data[\"tracks\"][\"items\"]:\n",
    "            track_id = data[\"tracks\"][\"items\"][0][\"id\"]\n",
    "            return track_id\n",
    "    except HTTPError:\n",
    "        return None"
   ],
   "execution_count":22,
   "outputs":[
    
   ],
   "metadata":{
    "datalore":{
     "node_id":"mctO7Ez51lUPk6Kr3rpmrs",
     "type":"CODE",
     "hide_input_from_viewers":true,
     "hide_output_from_viewers":true
    }
   }
  },
  {
   "cell_type":"code",
   "source":[
    "get_spotify_id('האמיתי', access_token)"
   ],
   "execution_count":23,
   "outputs":[
    
   ],
   "metadata":{
    "datalore":{
     "node_id":"Qt32JvsdiUjZ6JHOFYruYl",
     "type":"CODE",
     "hide_input_from_viewers":true,
     "hide_output_from_viewers":true
    }
   }
  },
  {
   "cell_type":"code",
   "source":[
    "dataset['Spotify_ID'] = dataset['YouTube_Title'].apply(lambda x: pd.Series(get_spotify_id(x, access_token)))"
   ],
   "execution_count":24,
   "outputs":[
    
   ],
   "metadata":{
    "datalore":{
     "node_id":"HkxT8YSbwMFD4dckm0qSAy",
     "type":"CODE",
     "hide_input_from_viewers":true,
     "hide_output_from_viewers":true
    }
   }
  },
  {
   "cell_type":"code",
   "source":[
    "dataset.sample(5)"
   ],
   "execution_count":25,
   "outputs":[
    
   ],
   "metadata":{
    "datalore":{
     "node_id":"wIStVFHD60NDAr0AEmOhBF",
     "type":"CODE",
     "hide_input_from_viewers":true,
     "hide_output_from_viewers":true
    }
   }
  },
  {
   "cell_type":"markdown",
   "source":[
    "## Get Spotify's Features:\n",
    "\n",
    "* **Danceability:** Danceability describes how suitable a track is for dancing based on a combination of musical elements including tempo, rhythm stability, beat strength, and overall regularity. A value of 0.0 is least danceable and 1.0 is most danceable.  \n",
    "  \n",
    "* **Acousticness:** A measure from 0.0 to 1.0 of whether the track is acoustic.  \n",
    "\n",
    "* **Energy:** Energy is a measure from 0.0 to 1.0 and represents a perceptual measure of intensity and activity. Typically, energetic tracks feel fast, loud, and noisy.  \n",
    "\n",
    "* **Instrumentalness:** Predicts whether a track contains no vocals. The closer the instrumentalness value is to 1.0, the greater likelihood the track contains no vocal content.  \n",
    "  \n",
    "* **Liveness:** Detects the presence of an audience in the recording. Higher liveness values represent an increased probability that the track was performed live.  \n",
    "  \n",
    "* **Loudness:** The overall loudness of a track in decibels (dB). Loudness values are averaged across the entire track. Values typical range between -60 and 0 db.  \n",
    "  \n",
    "* **Speechiness:** Speechiness detects the presence of spoken words in a track. The more exclusively speech-like the recording (e.g. talk show, audio book, poetry), the closer to 1.0 the attribute value.  \n",
    "  \n",
    "* **Tempo:** The overall estimated tempo of a track in beats per minute (BPM). In musical terminology, tempo is the speed or pace of a given piece and derives directly from the average beat duration.  \n",
    "  \n",
    "* **Valence:** A measure from 0.0 to 1.0 describing the musical positiveness conveyed by a track. Tracks with high valence sound more positive (e.g. happy, cheerful, euphoric), while tracks with low valence sound more negative (e.g. sad, depressed, angry).\n",
    "\n",
    "* **Key:**  Represents the musical key of the song (e.g., C major, D minor).  \n",
    "\n",
    "* **Mode:** Represents the modality of the song (e.g., major or minor). "
   ],
   "attachments":{
    
   },
   "metadata":{
    "datalore":{
     "node_id":"yBsIfHhB83KkdjnzTBXyUv",
     "type":"MD",
     "hide_input_from_viewers":true,
     "hide_output_from_viewers":true
    }
   }
  },
  {
   "cell_type":"code",
   "source":[
    "def get_audio_features(spotify_id, access_token):\n",
    "    # Set up API endpoint and parameters\n",
    "    endpoint = f\"https:\/\/api.spotify.com\/v1\/audio-features\/{spotify_id}\"\n",
    "\n",
    "    # Set up HTTP headers with access token\n",
    "    headers = {\n",
    "        \"Authorization\": \"Bearer \" + access_token\n",
    "    }\n",
    "\n",
    "    # Make API request and retrieve response\n",
    "    response = requests.get(endpoint, headers=headers)\n",
    "\n",
    "    # Parse response JSON and extract relevant audio features\n",
    "    try:\n",
    "        data = response.json()\n",
    "        audio_features = {\n",
    "            'danceability': data['danceability'],\n",
    "            'acousticness': data['acousticness'],\n",
    "            'energy': data['energy'],\n",
    "            'instrumentalness': data['instrumentalness'],\n",
    "            'liveness': data['liveness'],\n",
    "            'loudness': data['loudness'],\n",
    "            'speechiness': data['speechiness'],\n",
    "            'tempo': data['tempo'],\n",
    "            'valence': data['valence'],\n",
    "            'key': data['key'],\n",
    "            'mode': data['mode']\n",
    "        }\n",
    "        return audio_features\n",
    "    except:\n",
    "        return None"
   ],
   "execution_count":26,
   "outputs":[
    
   ],
   "metadata":{
    "datalore":{
     "node_id":"yHEJnNSFwTU1OxsrAbwCfI",
     "type":"CODE",
     "hide_input_from_viewers":true,
     "hide_output_from_viewers":true
    }
   }
  },
  {
   "cell_type":"code",
   "source":[
    "get_audio_features('2ZBNclC5wm4GtiWaeh0DMx', access_token)"
   ],
   "execution_count":27,
   "outputs":[
    
   ],
   "metadata":{
    "datalore":{
     "node_id":"GoyDDkc13h8vMIbXAXsteA",
     "type":"CODE",
     "hide_input_from_viewers":true,
     "hide_output_from_viewers":true
    }
   }
  },
  {
   "cell_type":"code",
   "source":[
    "spotify_features = ['danceability', 'acousticness', 'energy', 'instrumentalness', 'liveness',\n",
    "                    'loudness', 'speechiness', 'tempo', 'valence', 'key', 'mode']"
   ],
   "execution_count":28,
   "outputs":[
    
   ],
   "metadata":{
    "datalore":{
     "node_id":"33TwB4KIm7oSvkKXfZcklE",
     "type":"CODE",
     "hide_input_from_viewers":true,
     "hide_output_from_viewers":true
    }
   }
  },
  {
   "cell_type":"code",
   "source":[
    "audio_features = dataset['Spotify_ID'].apply(lambda x: pd.Series(get_audio_features(x, access_token)))\n",
    "audio_features = audio_features.apply(lambda x: x.fillna(np.nan))\n",
    "dataset = pd.concat([dataset, audio_features], axis=1)"
   ],
   "execution_count":29,
   "outputs":[
    
   ],
   "metadata":{
    "datalore":{
     "node_id":"potVFgTJcrD0DWCWspfxgM",
     "type":"CODE",
     "hide_input_from_viewers":true,
     "hide_output_from_viewers":true
    }
   }
  },
  {
   "cell_type":"code",
   "source":[
    "dataset.sample(5)"
   ],
   "execution_count":30,
   "outputs":[
    
   ],
   "metadata":{
    "datalore":{
     "node_id":"dmwkod02CHnSKoNHHtblgk",
     "type":"CODE",
     "hide_input_from_viewers":true,
     "hide_output_from_viewers":true
    }
   }
  },
  {
   "cell_type":"markdown",
   "source":[
    "## Retrive Artist and Song name, using Spotify's API"
   ],
   "attachments":{
    
   },
   "metadata":{
    "datalore":{
     "node_id":"YWE8CKppRRpuSPvdElIIKJ",
     "type":"MD",
     "hide_input_from_viewers":true,
     "hide_output_from_viewers":true
    }
   }
  },
  {
   "cell_type":"code",
   "source":[
    "def get_track_info(spotify_id, access_token):\n",
    "    # The Function gets the track name and artist from spotify track id, using the Spotify API\n",
    "    response = requests.get(\n",
    "        f'https:\/\/api.spotify.com\/v1\/tracks\/{spotify_id}',\n",
    "        headers={'Authorization': f'Bearer {access_token}'}\n",
    "    )\n",
    "\n",
    "    if response.status_code == 200:\n",
    "        track_name = response.json()['name']\n",
    "        artist_name = response.json()['artists'][0]['name']\n",
    "    else:\n",
    "        print('Error retrieving track information')\n",
    "        return None\n",
    "\n",
    "    return {'artist': artist_name, 'song': track_name}"
   ],
   "execution_count":34,
   "outputs":[
    
   ],
   "metadata":{
    "datalore":{
     "node_id":"GvkXDuMVvcMN9fjg7vAUNe",
     "type":"CODE",
     "hide_input_from_viewers":true,
     "hide_output_from_viewers":true
    }
   }
  },
  {
   "cell_type":"code",
   "source":[
    "# Apply the function to the DataFrame\n",
    "dataset[['artist', 'song']] = dataset['spotify_id'].apply(lambda x: pd.Series(get_track_info(x, access_token)))"
   ],
   "execution_count":null,
   "outputs":[
    
   ],
   "metadata":{
    "datalore":{
     "node_id":"ZhzopY0UKktnNMy0b1GFkM",
     "type":"CODE",
     "hide_input_from_viewers":true,
     "hide_output_from_viewers":true
    }
   }
  },
  {
   "cell_type":"code",
   "source":[
    "dataset.sample(5)"
   ],
   "execution_count":32,
   "outputs":[
    
   ],
   "metadata":{
    "datalore":{
     "node_id":"3M57kP6RcxY3mkb03mMRF6",
     "type":"CODE",
     "hide_input_from_viewers":true,
     "hide_output_from_viewers":true
    }
   }
  },
  {
   "cell_type":"markdown",
   "source":[
    "### Export the results"
   ],
   "attachments":{
    
   },
   "metadata":{
    "datalore":{
     "node_id":"fKz83V6DdYje3BSpLbYCvT",
     "type":"MD",
     "hide_input_from_viewers":true,
     "hide_output_from_viewers":true
    }
   }
  },
  {
   "cell_type":"code",
   "source":[
    "FILENAME = 'Full_Dataset_sample.csv'\n",
    "dataset.to_csv(FILENAME, encoding=\"utf-8\")"
   ],
   "execution_count":31,
   "outputs":[
    
   ],
   "metadata":{
    "datalore":{
     "node_id":"w4JTX6gBU1FhuyCldkEi9l",
     "type":"CODE",
     "hide_input_from_viewers":true,
     "hide_output_from_viewers":true
    }
   }
  }
 ],
 "metadata":{
  "kernelspec":{
   "display_name":"Python",
   "language":"python",
   "name":"python"
  },
  "datalore":{
   "computation_mode":"JUPYTER",
   "package_manager":"pip",
   "base_environment":"default",
   "packages":[
    {
     "name":"spotipy",
     "version":"2.22.1",
     "source":"PIP"
    },
    {
     "name":"librosa",
     "version":"0.10.0.post2",
     "source":"PIP"
    },
    {
     "name":"lyricsgenius",
     "version":"3.0.1",
     "source":"PIP"
    },
    {
     "name":"openpyxl",
     "version":"3.2.0b1",
     "source":"PIP"
    },
    {
     "name":"langdetect",
     "version":"1.0.9",
     "source":"PIP"
    },
    {
     "name":"googletrans",
     "version":"4.0.0rc1",
     "source":"PIP"
    }
   ],
   "report_row_ids":[
    
   ],
   "version":3
  }
 },
 "nbformat":4,
 "nbformat_minor":4
}
