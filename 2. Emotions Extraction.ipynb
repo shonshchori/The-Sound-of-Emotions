{
 "cells":[
  {
   "cell_type":"markdown",
   "source":[
    "### Emotions Extraction"
   ],
   "attachments":{
    
   },
   "metadata":{
    "datalore":{
     "node_id":"wkM55nCQdFJXZBgpwMzwvT",
     "type":"MD",
     "hide_input_from_viewers":false,
     "hide_output_from_viewers":false,
     "report_properties":{
      "rowId":"qkFVJ90LsJDR9vqFQ8gY64"
     }
    }
   }
  },
  {
   "cell_type":"code",
   "source":[
    "# install the transformers library if nessasery.\n",
    "# !pip install transformers\n",
    "# !pip install xformers"
   ],
   "execution_count":7,
   "outputs":[
    
   ],
   "metadata":{
    "datalore":{
     "node_id":"jqcW1VetCmakbGI0n6lGOY",
     "type":"CODE",
     "hide_input_from_viewers":false,
     "hide_output_from_viewers":false,
     "report_properties":{
      "rowId":"qkFVJ90LsJDR9vqFQ8gY64"
     }
    }
   }
  },
  {
   "cell_type":"code",
   "source":[
    "# import required packages\n",
    "import pandas as pd\n",
    "from transformers import pipeline"
   ],
   "execution_count":2,
   "outputs":[
    
   ],
   "metadata":{
    "datalore":{
     "node_id":"JcUKNtGNu7HFogQfkzjHE9",
     "type":"CODE",
     "hide_input_from_viewers":false,
     "hide_output_from_viewers":false,
     "report_properties":{
      "rowId":"qkFVJ90LsJDR9vqFQ8gY64"
     }
    }
   }
  },
  {
   "cell_type":"code",
   "source":[
    "# specify ther filename\n",
    "file_name = \"\/data\/notebook_files\/Sample_Dataset.csv\"  # note: you can right-click on your file and copy-paste the path to it here\n",
    "text_column = \"Description\"  # select the column in the csv that contains the text to be classified\n",
    "dataset = pd.read_csv(file_name)\n",
    "dataset['index'] = dataset.index"
   ],
   "execution_count":3,
   "outputs":[
    
   ],
   "metadata":{
    "datalore":{
     "node_id":"bxfHqe0tBDsx6i9a5dSY4d",
     "type":"CODE",
     "hide_input_from_viewers":false,
     "hide_output_from_viewers":false,
     "report_properties":{
      "rowId":"qkFVJ90LsJDR9vqFQ8gY64"
     }
    }
   }
  },
  {
   "cell_type":"code",
   "source":[
    "dataset.sample(5)"
   ],
   "execution_count":5,
   "outputs":[
    
   ],
   "metadata":{
    "datalore":{
     "node_id":"DMAUfdIy731MyTpmTX94po",
     "type":"CODE",
     "hide_input_from_viewers":false,
     "hide_output_from_viewers":false,
     "report_properties":{
      "rowId":"qkFVJ90LsJDR9vqFQ8gY64"
     }
    }
   }
  },
  {
   "cell_type":"code",
   "source":[
    "pred_texts = dataset[text_column].dropna().astype('str').tolist() # Extract only the texts to list for the model.\n",
    "pred_texts = list(map(lambda x: x.replace(\"\\r\",\".\").replace(\"\\n\",\"\"), pred_texts)) # Removes Raw strings."
   ],
   "execution_count":6,
   "outputs":[
    
   ],
   "metadata":{
    "datalore":{
     "node_id":"MpjgqiSZR9nryRUWdDGvyO",
     "type":"CODE",
     "hide_input_from_viewers":true,
     "hide_output_from_viewers":true
    }
   }
  },
  {
   "cell_type":"markdown",
   "source":[
    "### Classify texts with model"
   ],
   "attachments":{
    
   },
   "metadata":{
    "datalore":{
     "node_id":"JKdbc29JOqp3xoaqOmffBP",
     "type":"MD",
     "hide_input_from_viewers":false,
     "hide_output_from_viewers":false,
     "report_properties":{
      "rowId":"qkFVJ90LsJDR9vqFQ8gY64"
     }
    }
   }
  },
  {
   "cell_type":"code",
   "source":[
    "classifier = pipeline(\"text-classification\", model=\"j-hartmann\/emotion-english-distilroberta-base\", return_all_scores=True)\n",
    "predictions = classifier(pred_texts)"
   ],
   "execution_count":null,
   "outputs":[
    
   ],
   "metadata":{
    "datalore":{
     "node_id":"C9hv5PifZbsz5qzYea9RRg",
     "type":"CODE",
     "hide_input_from_viewers":true,
     "hide_output_from_viewers":true
    }
   }
  },
  {
   "cell_type":"code",
   "source":[
    "# Process the data to create a list of dictionaries with the label as key and score as value\n",
    "processed_data = [{item['label']: item['score'] for item in inner_list} for inner_list in predictions]\n",
    "\n",
    "# Convert the processed data into a DataFrame\n",
    "df = pd.DataFrame(processed_data)\n",
    "\n",
    "df['score'] = df.max(axis=1)\n",
    "df['label'] = df.apply(lambda row: row.idxmax(), axis=1)\n",
    "df['index'] = dataset.index\n",
    "df = df[['index','label','score', 'anger', 'disgust', 'fear', 'joy', 'neutral', 'sadness', 'surprise']]\n",
    "\n",
    "final_dataset = pd.merge(dataset, df, on='index',  how='left')\n",
    "final_dataset.drop(columns=['index'], inplace=True)"
   ],
   "execution_count":13,
   "outputs":[
    
   ],
   "metadata":{
    "datalore":{
     "node_id":"KatDj1GgDJaiDSWC6aTtEV",
     "type":"CODE",
     "hide_input_from_viewers":true,
     "hide_output_from_viewers":true
    }
   }
  },
  {
   "cell_type":"code",
   "source":[
    "final_dataset.label.value_counts()"
   ],
   "execution_count":14,
   "outputs":[
    
   ],
   "metadata":{
    "datalore":{
     "node_id":"TSq89Rstn0IG1PsDRMPLe0",
     "type":"CODE",
     "hide_input_from_viewers":true,
     "hide_output_from_viewers":true
    }
   }
  },
  {
   "cell_type":"code",
   "source":[
    "final_dataset.sample(5)"
   ],
   "execution_count":15,
   "outputs":[
    
   ],
   "metadata":{
    "datalore":{
     "node_id":"N2FZcBHAzfTXJ1J3V4yoYC",
     "type":"CODE",
     "hide_input_from_viewers":false,
     "hide_output_from_viewers":false,
     "report_properties":{
      "rowId":"qkFVJ90LsJDR9vqFQ8gY64"
     }
    }
   }
  },
  {
   "cell_type":"markdown",
   "source":[
    "### Export results"
   ],
   "attachments":{
    
   },
   "metadata":{
    "datalore":{
     "node_id":"SWflaFAjPH8sv6Xei1VqeE",
     "type":"MD",
     "hide_input_from_viewers":false,
     "hide_output_from_viewers":false,
     "report_properties":{
      "rowId":"qkFVJ90LsJDR9vqFQ8gY64"
     }
    }
   }
  },
  {
   "cell_type":"code",
   "source":[
    "# save results to csv\n",
    "FILENAME = \"Fully_Sample_Dataset.csv\"  # name your output file\n",
    "final_dataset.to_csv(FILENAME)"
   ],
   "execution_count":92,
   "outputs":[
    
   ],
   "metadata":{
    "datalore":{
     "node_id":"x9IaPKs7bDgpWVFLOTmJzU",
     "type":"CODE",
     "hide_input_from_viewers":false,
     "hide_output_from_viewers":false,
     "report_properties":{
      "rowId":"qkFVJ90LsJDR9vqFQ8gY64"
     }
    }
   }
  }
 ],
 "metadata":{
  "kernelspec":{
   "display_name":"Python",
   "language":"python",
   "name":"python"
  },
  "datalore":{
   "computation_mode":"JUPYTER",
   "package_manager":"pip",
   "base_environment":"default",
   "packages":[
    
   ],
   "report_row_ids":[
    "qkFVJ90LsJDR9vqFQ8gY64"
   ],
   "version":3
  }
 },
 "nbformat":4,
 "nbformat_minor":4
}